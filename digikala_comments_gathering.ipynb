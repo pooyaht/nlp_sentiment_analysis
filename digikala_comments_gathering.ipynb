{
 "cells": [
  {
   "cell_type": "code",
   "execution_count": 25,
   "id": "341ad374",
   "metadata": {},
   "outputs": [],
   "source": [
    "import tqdm\n",
    "import requests\n",
    "\n",
    "import json\n",
    "import time\n",
    "import datetime\n",
    "from functools import reduce"
   ]
  },
  {
   "cell_type": "code",
   "execution_count": 2,
   "id": "b65088c2",
   "metadata": {},
   "outputs": [],
   "source": [
    "incredible_offers_response = requests.request('get', \"https://api.digikala.com/v1/incredible-offers/?category_id=5966\").json()\n",
    "incredible_offers_products = incredible_offers_response['data']['incredible_products_list']['products']"
   ]
  },
  {
   "cell_type": "code",
   "execution_count": 27,
   "id": "29c0f024",
   "metadata": {},
   "outputs": [
    {
     "name": "stdout",
     "output_type": "stream",
     "text": [
      "Number of products: 18\n"
     ]
    }
   ],
   "source": [
    "print(f\"Number of products: {len(incredible_offers_products)}\")"
   ]
  },
  {
   "cell_type": "code",
   "execution_count": 20,
   "id": "1b0e9827",
   "metadata": {},
   "outputs": [
    {
     "name": "stdout",
     "output_type": "stream",
     "text": [
      "هدفون بلوتوثی مدل P4͏9\n"
     ]
    },
    {
     "name": "stderr",
     "output_type": "stream",
     "text": [
      "0it [00:00, ?it/s]\n"
     ]
    },
    {
     "name": "stdout",
     "output_type": "stream",
     "text": [
      "هدفون بلوتوثی مدل HW͏80\n"
     ]
    },
    {
     "name": "stderr",
     "output_type": "stream",
     "text": [
      "0it [00:00, ?it/s]\n"
     ]
    },
    {
     "name": "stdout",
     "output_type": "stream",
     "text": [
      "ساعت هوشمند مدل  G͏9͏9͏U͏ltra-2025\n"
     ]
    },
    {
     "name": "stderr",
     "output_type": "stream",
     "text": [
      "100%|██████████| 3/3 [00:01<00:00,  1.56it/s]\n"
     ]
    },
    {
     "name": "stdout",
     "output_type": "stream",
     "text": [
      "پایه نگهدارنده گوشی موبایل و تبلت یونیورسال مدل 270 درجه\n"
     ]
    },
    {
     "name": "stderr",
     "output_type": "stream",
     "text": [
      "100%|██████████| 49/49 [00:36<00:00,  1.32it/s]\n"
     ]
    },
    {
     "name": "stdout",
     "output_type": "stream",
     "text": [
      "کنسول بازی گیم استیک پرو طرح ps5 مدل Game stick 4K Ultra\n"
     ]
    },
    {
     "name": "stderr",
     "output_type": "stream",
     "text": [
      "0it [00:00, ?it/s]\n"
     ]
    },
    {
     "name": "stdout",
     "output_type": "stream",
     "text": [
      "پایه نگهدارنده گوشی موبایل تسکو مدل THL 1212\n"
     ]
    },
    {
     "name": "stderr",
     "output_type": "stream",
     "text": [
      "100%|██████████| 26/26 [00:20<00:00,  1.29it/s]\n"
     ]
    },
    {
     "name": "stdout",
     "output_type": "stream",
     "text": [
      "دسته بازی PUBG ایکس او مدل XO-H10\n"
     ]
    },
    {
     "name": "stderr",
     "output_type": "stream",
     "text": [
      "100%|██████████| 47/47 [00:41<00:00,  1.13it/s]\n"
     ]
    },
    {
     "name": "stdout",
     "output_type": "stream",
     "text": [
      "کیبورد گیمینگ تسکو مدل GK 8126، سوییچ ممبران، Full-Size، نورپردازی RGB\n"
     ]
    },
    {
     "name": "stderr",
     "output_type": "stream",
     "text": [
      "100%|██████████| 1/1 [00:00<00:00,  1.37it/s]\n"
     ]
    },
    {
     "name": "stdout",
     "output_type": "stream",
     "text": [
      "شارژر فندکی 50 وات وونک مدل VC--50 به همراه کابل USB-C\n"
     ]
    },
    {
     "name": "stderr",
     "output_type": "stream",
     "text": [
      "100%|██████████| 2/2 [00:01<00:00,  1.52it/s]\n"
     ]
    },
    {
     "name": "stdout",
     "output_type": "stream",
     "text": [
      "مبدل برق رایان مدل M03\n"
     ]
    },
    {
     "name": "stderr",
     "output_type": "stream",
     "text": [
      "100%|██████████| 1/1 [00:00<00:00,  1.38it/s]\n"
     ]
    },
    {
     "name": "stdout",
     "output_type": "stream",
     "text": [
      "دوربین مداربسته تحت شبکه ریولینک مدل E1 HD\n"
     ]
    },
    {
     "name": "stderr",
     "output_type": "stream",
     "text": [
      "0it [00:00, ?it/s]\n"
     ]
    },
    {
     "name": "stdout",
     "output_type": "stream",
     "text": [
      "ساعت هوشمند 45 میلی متری ریولینک مدل R12 pro ultra با بند سلیکون\n"
     ]
    },
    {
     "name": "stderr",
     "output_type": "stream",
     "text": [
      "0it [00:00, ?it/s]\n"
     ]
    },
    {
     "name": "stdout",
     "output_type": "stream",
     "text": [
      "هدفون بلوتوثی وونک مدل T-06\n"
     ]
    },
    {
     "name": "stderr",
     "output_type": "stream",
     "text": [
      "0it [00:00, ?it/s]\n"
     ]
    },
    {
     "name": "stdout",
     "output_type": "stream",
     "text": [
      "شارژر فندکی 30 وات مدل YSY-395KC\n"
     ]
    },
    {
     "name": "stderr",
     "output_type": "stream",
     "text": [
      "0it [00:00, ?it/s]\n"
     ]
    },
    {
     "name": "stdout",
     "output_type": "stream",
     "text": [
      "اسپیکر بلوتوثی قابل حمل سونی مدل SRS-XV800\n"
     ]
    },
    {
     "name": "stderr",
     "output_type": "stream",
     "text": [
      "100%|██████████| 1/1 [00:00<00:00,  1.51it/s]\n"
     ]
    },
    {
     "name": "stdout",
     "output_type": "stream",
     "text": [
      "شارژر 25 وات هادرون مدل C1011\n"
     ]
    },
    {
     "name": "stderr",
     "output_type": "stream",
     "text": [
      "100%|██████████| 4/4 [00:02<00:00,  1.54it/s]\n"
     ]
    },
    {
     "name": "stdout",
     "output_type": "stream",
     "text": [
      "پاوربانک 67 وات بیسوس مدل B08TH ظرفیت 20000 میلی آمپر ساعت به همراه کابل USB-C به USB-A\n"
     ]
    },
    {
     "name": "stderr",
     "output_type": "stream",
     "text": [
      "0it [00:00, ?it/s]\n"
     ]
    },
    {
     "name": "stdout",
     "output_type": "stream",
     "text": [
      "باتری قلمی و نیم قلمی کملیون مدل پلاس آلکالاین میکس 8AA|4AAA بسته 12 عددی\n"
     ]
    },
    {
     "name": "stderr",
     "output_type": "stream",
     "text": [
      "100%|██████████| 21/21 [00:15<00:00,  1.40it/s]\n"
     ]
    }
   ],
   "source": [
    "def get_comments_per_product(product_id, max_num_pages=50):\n",
    "    url = f\"https://api.digikala.com/v1/rate-review/products/{product_id}/\"\n",
    "    first_page_comments = requests.request(\"get\", url).json()\n",
    "    if len(first_page_comments['data']['comments']) == 0:\n",
    "        return []\n",
    "    \n",
    "    all_comments = first_page_comments['data']['comments']\n",
    "    for page_number in tqdm.tqdm(range(2, min(first_page_comments['data']['pager']['total_pages'], max_num_pages+1))):\n",
    "        page_comments = requests.request(\"get\", url+f\"?page={page_number}\").json()\n",
    "        all_comments += page_comments['data']['comments']\n",
    "        time.sleep(0.3) \n",
    "    return all_comments\n",
    "        \n",
    "incredible_offers_product_comments = dict()\n",
    "for product in incredible_offers_products:\n",
    "    product_id = product['id']\n",
    "    print(product['title_fa'])\n",
    "    product_comments = get_comments_per_product(product_id) \n",
    "    incredible_offers_product_comments[product_id] = product_comments\n",
    "    time.sleep(0.3)"
   ]
  },
  {
   "cell_type": "code",
   "execution_count": 24,
   "id": "4bd6c842",
   "metadata": {},
   "outputs": [
    {
     "name": "stdout",
     "output_type": "stream",
     "text": [
      "total number of comments extracted: 3411\n"
     ]
    }
   ],
   "source": [
    "print(f\"total number of comments extracted: {reduce(lambda acc, arr: acc + len(arr),\\\n",
    "                                                     incredible_offers_product_comments.values(), 0)}\")\n"
   ]
  },
  {
   "cell_type": "code",
   "execution_count": 26,
   "id": "2d13ea3c",
   "metadata": {},
   "outputs": [],
   "source": [
    "timestamp = datetime.datetime.now().strftime(\"%Y%m%d_%H%M%S\")\n",
    "with open(f\"incredible_offers_product_comments_{timestamp}.json\", 'w') as f:\n",
    "    json.dump(incredible_offers_product_comments, f, indent=4)"
   ]
  }
 ],
 "metadata": {
  "kernelspec": {
   "display_name": ".venv",
   "language": "python",
   "name": "python3"
  },
  "language_info": {
   "codemirror_mode": {
    "name": "ipython",
    "version": 3
   },
   "file_extension": ".py",
   "mimetype": "text/x-python",
   "name": "python",
   "nbconvert_exporter": "python",
   "pygments_lexer": "ipython3",
   "version": "3.13.2"
  }
 },
 "nbformat": 4,
 "nbformat_minor": 5
}
