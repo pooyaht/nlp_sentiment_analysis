{
 "cells": [
  {
   "cell_type": "code",
   "execution_count": 1,
   "id": "0d4cb9ef",
   "metadata": {},
   "outputs": [],
   "source": [
    "import torch\n",
    "import numpy as np\n",
    "from datasets import load_dataset\n",
    "from torch.utils.data import DataLoader\n",
    "from transformers.trainer import Trainer\n",
    "from transformers.training_args import TrainingArguments\n",
    "from sklearn.metrics import accuracy_score, f1_score\n",
    "from peft import get_peft_model, LoraConfig, TaskType\n",
    "from transformers import XLMRobertaForSequenceClassification, XLMRobertaTokenizer"
   ]
  },
  {
   "cell_type": "code",
   "execution_count": null,
   "id": "cfff6966",
   "metadata": {},
   "outputs": [],
   "source": [
    "ds = load_dataset(\"hezarai/sentiment-dksf\")"
   ]
  },
  {
   "cell_type": "code",
   "execution_count": 3,
   "id": "00a5c223",
   "metadata": {},
   "outputs": [
    {
     "name": "stderr",
     "output_type": "stream",
     "text": [
      "Some weights of XLMRobertaForSequenceClassification were not initialized from the model checkpoint at xlm-roberta-base and are newly initialized: ['classifier.dense.bias', 'classifier.dense.weight', 'classifier.out_proj.bias', 'classifier.out_proj.weight']\n",
      "You should probably TRAIN this model on a down-stream task to be able to use it for predictions and inference.\n"
     ]
    }
   ],
   "source": [
    "tokenizer = XLMRobertaTokenizer.from_pretrained(\"xlm-roberta-base\")\n",
    "model = XLMRobertaForSequenceClassification.from_pretrained(\"xlm-roberta-base\", num_labels=3)"
   ]
  },
  {
   "cell_type": "code",
   "execution_count": 4,
   "id": "aaeed51b",
   "metadata": {},
   "outputs": [
    {
     "name": "stdout",
     "output_type": "stream",
     "text": [
      "\n",
      "Training Parameter Analysis:\n",
      "============================================================\n",
      "LoRA Adapter Parameters: 1,339,392 (0.48%)\n",
      "Full Training Parameters: 592,899 (0.21%)\n",
      "Frozen Parameters: 278,045,955 (99.31%)\n",
      "Total Trainable: 1,932,291 (0.69%)\n"
     ]
    }
   ],
   "source": [
    "lora_config = LoraConfig(\n",
    "        task_type=TaskType.SEQ_CLS,\n",
    "        inference_mode=False,\n",
    "        r=8,\n",
    "        lora_alpha=16,\n",
    "        lora_dropout=0.1,\n",
    "        target_modules=[\n",
    "            \"query\", \"key\", \"value\", \"dense\", \n",
    "        ],\n",
    "        modules_to_save=[\"classifier\"]\n",
    "    )\n",
    "\n",
    "peft_model = get_peft_model(model, lora_config)\n",
    "\n",
    "print(\"\\nTraining Parameter Analysis:\")\n",
    "print(\"=\" * 60)\n",
    "\n",
    "lora_params = 0\n",
    "full_params = 0\n",
    "frozen_params = 0\n",
    "\n",
    "training_breakdown = {\n",
    "    \"lora_adapters\": [],\n",
    "    \"full_training\": [],\n",
    "    \"frozen\": []\n",
    "}\n",
    "\n",
    "for name, param in model.named_parameters():\n",
    "    if param.requires_grad:\n",
    "        if \"lora_\" in name:\n",
    "            lora_params += param.numel()\n",
    "            training_breakdown[\"lora_adapters\"].append(name)\n",
    "        else:\n",
    "            full_params += param.numel()\n",
    "            training_breakdown[\"full_training\"].append(name)\n",
    "    else:\n",
    "        frozen_params += param.numel()\n",
    "        training_breakdown[\"frozen\"].append(name)\n",
    "\n",
    "total_params = lora_params + full_params + frozen_params\n",
    "\n",
    "print(f\"LoRA Adapter Parameters: {lora_params:,} ({lora_params/total_params*100:.2f}%)\")\n",
    "print(f\"Full Training Parameters: {full_params:,} ({full_params/total_params*100:.2f}%)\")\n",
    "print(f\"Frozen Parameters: {frozen_params:,} ({frozen_params/total_params*100:.2f}%)\")\n",
    "print(f\"Total Trainable: {lora_params + full_params:,} ({(lora_params + full_params)/total_params*100:.2f}%)\")"
   ]
  },
  {
   "cell_type": "code",
   "execution_count": 5,
   "id": "630ef9af",
   "metadata": {},
   "outputs": [
    {
     "name": "stdout",
     "output_type": "stream",
     "text": [
      "Using device: mps\n",
      "Model moved to mps device\n"
     ]
    }
   ],
   "source": [
    "device = torch.device(\"mps\" if torch.backends.mps.is_available() else \"cuda\" if torch.cuda.is_available() else \"cpu\")\n",
    "print(f\"Using device: {device}\")\n",
    "\n",
    "peft_model = peft_model.to(device)\n",
    "print(f\"Model moved to {device} device\")"
   ]
  },
  {
   "cell_type": "code",
   "execution_count": 6,
   "id": "9da48091",
   "metadata": {},
   "outputs": [],
   "source": [
    "def tokenize_function(examples):\n",
    "    return tokenizer(\n",
    "        examples[\"text\"], \n",
    "        truncation=True, \n",
    "        padding=\"max_length\",\n",
    "        max_length=384,\n",
    "    )\n",
    "\n",
    "tokenized_ds = ds.map(tokenize_function, batched=True)\n",
    "tokenized_ds = tokenized_ds.rename_column(\"label\", \"labels\")"
   ]
  },
  {
   "cell_type": "code",
   "execution_count": null,
   "id": "4e5f7820",
   "metadata": {},
   "outputs": [
    {
     "ename": "",
     "evalue": "",
     "output_type": "error",
     "traceback": [
      "\u001b[1;31mThe Kernel crashed while executing code in the current cell or a previous cell. \n",
      "\u001b[1;31mPlease review the code in the cell(s) to identify a possible cause of the failure. \n",
      "\u001b[1;31mClick <a href='https://aka.ms/vscodeJupyterKernelCrash'>here</a> for more info. \n",
      "\u001b[1;31mView Jupyter <a href='command:jupyter.viewOutput'>log</a> for further details."
     ]
    }
   ],
   "source": [
    "def compute_metrics(eval_pred):\n",
    "    predictions, labels = eval_pred\n",
    "    predictions = np.argmax(predictions, axis=1)\n",
    "    return {\n",
    "        'accuracy': accuracy_score(labels, predictions),\n",
    "        'f1': f1_score(labels, predictions, average='weighted')\n",
    "    }\n",
    "\n",
    "training_args = TrainingArguments(\n",
    "    output_dir=\"./BERT/results\",\n",
    "    num_train_epochs=3,\n",
    "    per_device_train_batch_size=8,\n",
    "    per_device_eval_batch_size=8,\n",
    "    gradient_accumulation_steps=4, \n",
    "    gradient_checkpointing=False,\n",
    "    warmup_steps=300,               \n",
    "    weight_decay=0.01,\n",
    "    logging_dir=\"./BERT/logs\",\n",
    "    logging_steps=50,                \n",
    "    eval_steps=300,                 \n",
    "    save_steps=600,       \n",
    "    eval_strategy=\"steps\",       \n",
    "    save_total_limit=3,\n",
    "    load_best_model_at_end=True,\n",
    "    metric_for_best_model=\"f1\",\n",
    "    greater_is_better=True,\n",
    "    dataloader_pin_memory=False,\n",
    "    remove_unused_columns=False,\n",
    "    fp16=False,\n",
    "    report_to=None, \n",
    ")"
   ]
  },
  {
   "cell_type": "code",
   "execution_count": null,
   "id": "c6c17de4",
   "metadata": {},
   "outputs": [
    {
     "name": "stderr",
     "output_type": "stream",
     "text": [
      "No label_names provided for model class `PeftModelForSequenceClassification`. Since `PeftModel` hides base models input arguments, if label_names is not given, label_names can't be set automatically within `Trainer`. Note that empty label_names list will be used instead.\n"
     ]
    },
    {
     "name": "stdout",
     "output_type": "stream",
     "text": [
      "Starting training...\n"
     ]
    },
    {
     "data": {
      "text/html": [
       "\n",
       "    <div>\n",
       "      \n",
       "      <progress value='718' max='2682' style='width:300px; height:20px; vertical-align: middle;'></progress>\n",
       "      [ 718/2682 1:03:34 < 2:54:22, 0.19 it/s, Epoch 0.80/3]\n",
       "    </div>\n",
       "    <table border=\"1\" class=\"dataframe\">\n",
       "  <thead>\n",
       " <tr style=\"text-align: left;\">\n",
       "      <th>Step</th>\n",
       "      <th>Training Loss</th>\n",
       "      <th>Validation Loss</th>\n",
       "      <th>Accuracy</th>\n",
       "      <th>F1</th>\n",
       "    </tr>\n",
       "  </thead>\n",
       "  <tbody>\n",
       "    <tr>\n",
       "      <td>300</td>\n",
       "      <td>0.795900</td>\n",
       "      <td>0.571663</td>\n",
       "      <td>0.783585</td>\n",
       "      <td>0.790970</td>\n",
       "    </tr>\n",
       "    <tr>\n",
       "      <td>600</td>\n",
       "      <td>0.638400</td>\n",
       "      <td>0.534611</td>\n",
       "      <td>0.792225</td>\n",
       "      <td>0.809644</td>\n",
       "    </tr>\n",
       "  </tbody>\n",
       "</table><p>"
      ],
      "text/plain": [
       "<IPython.core.display.HTML object>"
      ]
     },
     "metadata": {},
     "output_type": "display_data"
    }
   ],
   "source": [
    "trainer = Trainer(\n",
    "    model=peft_model,\n",
    "    args=training_args,\n",
    "    train_dataset=tokenized_ds[\"train\"], # type: ignore\n",
    "    eval_dataset=tokenized_ds[\"test\"], # type: ignore\n",
    "    compute_metrics=compute_metrics,\n",
    ")\n",
    "\n",
    "print(\"Starting training...\")\n",
    "trainer.train()\n",
    "\n",
    "peft_model.save_pretrained(\"./lora_sentiment_RoBERTa_model\")\n",
    "tokenizer.save_pretrained(\"./lora_sentiment_RoBERTa_model\")\n",
    "print(\"Model and tokenizer saved!\")\n"
   ]
  }
 ],
 "metadata": {
  "kernelspec": {
   "display_name": ".venv",
   "language": "python",
   "name": "python3"
  },
  "language_info": {
   "codemirror_mode": {
    "name": "ipython",
    "version": 3
   },
   "file_extension": ".py",
   "mimetype": "text/x-python",
   "name": "python",
   "nbconvert_exporter": "python",
   "pygments_lexer": "ipython3",
   "version": "3.13.2"
  }
 },
 "nbformat": 4,
 "nbformat_minor": 5
}
